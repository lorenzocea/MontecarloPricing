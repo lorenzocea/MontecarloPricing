{
 "cells": [
  {
   "cell_type": "markdown",
   "metadata": {},
   "source": [
    "## Pricing a call option with montecarlo method and black & scholes"
   ]
  },
  {
   "cell_type": "code",
   "execution_count": 1,
   "metadata": {},
   "outputs": [],
   "source": [
    "import numpy as np\n",
    "from scipy.stats import norm\n",
    "from time import time\n",
    "import pandas as pd\n"
   ]
  },
  {
   "cell_type": "code",
   "execution_count": 2,
   "metadata": {},
   "outputs": [],
   "source": [
    "# Parameters \n",
    "S0 = 100. # initial value \n",
    "K = 105.# strike price \n",
    "T = 1.0  # maturity \n",
    "r = 0.05  # riskless short rate \n",
    "sigma = 0.2  # volatility \n",
    "M = 50  # number of time steps \n",
    "dt = T / M  # length of time interval \n",
    "I = 250000  # number of paths\n"
   ]
  },
  {
   "cell_type": "code",
   "execution_count": 3,
   "metadata": {},
   "outputs": [],
   "source": [
    "#Start\n",
    "t0 = time()"
   ]
  },
  {
   "cell_type": "code",
   "execution_count": 4,
   "metadata": {},
   "outputs": [],
   "source": [
    "#Cumulative delta t matrix\n",
    "DT = np.cumsum(np.ones((I, M))*dt,axis=1)"
   ]
  },
  {
   "cell_type": "code",
   "execution_count": 5,
   "metadata": {},
   "outputs": [],
   "source": [
    "#Random Normal Matrix\n",
    "Z = np.random.normal(0,1, (I,M))"
   ]
  },
  {
   "cell_type": "code",
   "execution_count": 6,
   "metadata": {},
   "outputs": [],
   "source": [
    "#Vectorized implementation of underlying dynamics\n",
    "ST = S0*np.exp((r - 0.5 * sigma ** 2) * DT + sigma*np.sqrt(DT)*Z) "
   ]
  },
  {
   "cell_type": "markdown",
   "metadata": {},
   "source": [
    "## Montecarlo Pricing"
   ]
  },
  {
   "cell_type": "code",
   "execution_count": null,
   "metadata": {},
   "outputs": [],
   "source": [
    "fun = lambda x: max(x, 0.0)\n",
    "CT = np.vectorize(fun)(ST-K)\n",
    "\n",
    "E_CT = CT.T[-1].mean() #expected value at T\n",
    "V_CT = CT.T[-1].var() # Variance at T\n",
    "\n",
    "Ct_m =E_CT*np.exp(-r*T) #price\n",
    "error = np.sqrt(V_CT/I)*1.96 #error\n",
    "\n",
    "\n",
    "print(\"European Option Value MC %7.3f\" % Ct_m)\n",
    "print(\"MC Error %7.3f\" % error)\n",
    "print(\"Duration in Seconds %7.3f\" % (time() - t0))"
   ]
  },
  {
   "cell_type": "markdown",
   "metadata": {},
   "source": [
    "## Black & Scholes"
   ]
  },
  {
   "cell_type": "code",
   "execution_count": null,
   "metadata": {},
   "outputs": [],
   "source": [
    "d1 = (np.log(S0/K) + (r+sigma**2/2)) / (sigma*np.sqrt(T))\n",
    "d2 = d1 - sigma*np.sqrt(T)\n",
    "\n",
    "Ct = S0*norm.cdf(d1) - K*norm.cdf(d2)*np.exp(-r*T)\n",
    "\n",
    "print(\"European Option Value B&S %7.3f\" % Ct)"
   ]
  },
  {
   "cell_type": "code",
   "execution_count": null,
   "metadata": {},
   "outputs": [],
   "source": [
    "#Checking montecarlo price with analytical formula\n",
    "assert np.abs(Ct - Ct_m) < error, 'Greater than MC error'"
   ]
  },
  {
   "cell_type": "markdown",
   "metadata": {},
   "source": [
    "## Graphs"
   ]
  },
  {
   "cell_type": "code",
   "execution_count": null,
   "metadata": {},
   "outputs": [],
   "source": [
    "#Print some paths of the underlying\n",
    "some_path = 500\n",
    "pd.DataFrame(ST)[:some_path].T.plot(legend=False)"
   ]
  },
  {
   "cell_type": "code",
   "execution_count": null,
   "metadata": {},
   "outputs": [],
   "source": []
  }
 ],
 "metadata": {
  "kernelspec": {
   "display_name": "base",
   "language": "python",
   "name": "base"
  },
  "language_info": {
   "codemirror_mode": {
    "name": "ipython",
    "version": 3
   },
   "file_extension": ".py",
   "mimetype": "text/x-python",
   "name": "python",
   "nbconvert_exporter": "python",
   "pygments_lexer": "ipython3",
   "version": "3.7.4"
  }
 },
 "nbformat": 4,
 "nbformat_minor": 2
}
